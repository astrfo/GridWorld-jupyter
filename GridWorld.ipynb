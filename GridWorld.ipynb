{
  "nbformat": 4,
  "nbformat_minor": 0,
  "metadata": {
    "colab": {
      "provenance": [],
      "collapsed_sections": [],
      "authorship_tag": "ABX9TyNCz4C4f5ktRiRG6Te5oQbg",
      "include_colab_link": true
    },
    "kernelspec": {
      "name": "python3",
      "display_name": "Python 3"
    },
    "language_info": {
      "name": "python"
    }
  },
  "cells": [
    {
      "cell_type": "markdown",
      "metadata": {
        "id": "view-in-github",
        "colab_type": "text"
      },
      "source": [
        "<a href=\"https://colab.research.google.com/github/astrfo/GridWorld/blob/main/GridWorld.ipynb\" target=\"_parent\"><img src=\"https://colab.research.google.com/assets/colab-badge.svg\" alt=\"Open In Colab\"/></a>"
      ]
    },
    {
      "cell_type": "code",
      "execution_count": 84,
      "metadata": {
        "id": "8nVXXDf8D544"
      },
      "outputs": [],
      "source": [
        "import numpy as np\n",
        "import copy\n",
        "import random\n",
        "import time\n",
        "from tqdm import tqdm\n",
        "import matplotlib.pyplot as plt\n",
        "%matplotlib inline"
      ]
    },
    {
      "cell_type": "code",
      "source": [
        "class GridWorld(object):\n",
        "    def __init__(self):\n",
        "        self.map = np.array(\n",
        "            [[0, 0, 8, 0, 0, 0, 1, 0, 0],\n",
        "             [0, 0, 0, 0, 0, 0, 0, 0, 0],\n",
        "             [3, 0, 0, 0, 0, 0, 0, 0, 5],\n",
        "             [0, 0, 0, 0, 0, 0, 0, 0, 0],\n",
        "             [0, 0, 0, 0, 0, 0, 0, 0, 0],\n",
        "             [0, 0, 0, 0, 0, 0, 0, 0, 0],\n",
        "             [6, 0, 0, 0, 0, 0, 0, 0, 4],\n",
        "             [0, 0, 0, 0, 0, 0, 0, 0, 0],\n",
        "             [0, 0, 2, 0, 0, 0, 7, 0, 0]]\n",
        "        )\n",
        "        self.actions = np.array([[-1, 0], [1, 0], [0, -1], [0, 1]])  # up, down, left, right\n",
        "        self.width = self.map.shape[1]\n",
        "        self.height = self.map.shape[0]\n",
        "        self.start_position = np.array([4, 4])\n",
        "        self.agent_position = copy.deepcopy(self.start_position)\n",
        "\n",
        "    def reset(self):\n",
        "        self.agent_position = copy.deepcopy(self.start_position)\n",
        "        return self.agent_position\n",
        "\n",
        "    def update_state(self, action):\n",
        "        if action == 0 and self.agent_position[0] > 0:  # up\n",
        "            self.agent_position += self.actions[action]\n",
        "        elif action == 1 and self.agent_position[0] < (self.height - 1):  # down\n",
        "            self.agent_position += self.actions[action]\n",
        "        elif action == 2 and self.agent_position[1] > 0:  # left\n",
        "            self.agent_position += self.actions[action]\n",
        "        elif action == 3 and self.agent_position[1] < (self.width - 1):  # right\n",
        "            self.agent_position += self.actions[action] \n",
        "        return self.agent_position\n",
        "\n",
        "    def step(self, action, state):\n",
        "        next_state = self.update_state(action)\n",
        "        if self.map[next_state[0]][next_state[1]] > 0:\n",
        "            return self.map[next_state[0]][next_state[1]], self.start_position\n",
        "        else:\n",
        "            return self.map[next_state[0]][next_state[1]], next_state"
      ],
      "metadata": {
        "id": "O2z9lSsqaBWj"
      },
      "execution_count": 85,
      "outputs": []
    },
    {
      "cell_type": "code",
      "source": [
        "class Random(object):\n",
        "    def __init__(self):\n",
        "        pass\n",
        "\n",
        "    def reset(self):\n",
        "        pass\n",
        "    \n",
        "    def act(self, state):\n",
        "        return random.randint(0, 3)\n",
        "    \n",
        "    def update(self, reward, next_state):\n",
        "        pass"
      ],
      "metadata": {
        "id": "rLYdPBNbdsLZ"
      },
      "execution_count": 86,
      "outputs": []
    },
    {
      "cell_type": "code",
      "source": [
        "class QLearning(object):\n",
        "    def __init__(self, width, height):\n",
        "        self.width = width\n",
        "        self.height = height\n",
        "        self.alpha = 0.1\n",
        "        self.gamma = 0.99\n",
        "        self.eps = 0.01\n",
        "        self.actions = np.array([0, 1, 2, 3])  # up, down, left, right\n",
        "        self.Q = np.zeros((len(self.actions), self.height, self.width))\n",
        "\n",
        "    def reset(self):\n",
        "        self.Q = np.zeros((len(self.actions), self.height, self.width))\n",
        "\n",
        "    def act(self, state):\n",
        "        self.state = state\n",
        "        ### e_greedy or softmax\n",
        "        # self.action = self.e_greedy()\n",
        "        self.action = self.softmax()\n",
        "        return self.action\n",
        "\n",
        "    def update(self, action, state, next_state, reward):\n",
        "        max_Q = max(self.Q[:, next_state[0], next_state[1]])\n",
        "        td_error = reward + self.gamma * max_Q  - self.Q[action, state[0], state[1]]\n",
        "        self.Q[action, state[0], state[1]] += self.alpha * td_error\n",
        "\n",
        "    def e_greedy(self):\n",
        "        if random.random() < self.eps:\n",
        "            action = random.randint(0, 3)\n",
        "        else: \n",
        "            action = self.greedy()\n",
        "        return action\n",
        "\n",
        "    def greedy(self):\n",
        "        CanChoiceQ = np.array(self.Q[:, self.state[0], self.state[1]])\n",
        "        maxIndex = np.where(CanChoiceQ == max(CanChoiceQ))[0]\n",
        "        return random.choice(maxIndex)\n",
        "\n",
        "    def softmax(self):\n",
        "        CanChoiceQ = np.array(self.Q[:, self.state[0], self.state[1]])\n",
        "        x = np.exp(CanChoiceQ)\n",
        "        u = np.sum(x)\n",
        "        p_softmax = x/u\n",
        "        return np.random.choice([0, 1, 2, 3], p=p_softmax)"
      ],
      "metadata": {
        "id": "Seb6Gw0TJPPT"
      },
      "execution_count": 87,
      "outputs": []
    },
    {
      "cell_type": "code",
      "source": [
        "class Simulator(object):\n",
        "    def __init__(self, sim, epi, algo='r'):\n",
        "        self.sim = sim\n",
        "        self.epi = epi\n",
        "        self.env = GridWorld()\n",
        "        self.rewards = np.zeros((self.sim, self.epi))\n",
        "        ### random or q-learning\n",
        "        if algo == 'r': self.algo = Random(self.env.width, self.env.height)\n",
        "        elif algo == 'q': self.algo = QLearning(self.env.width, self.env.height)\n",
        "\n",
        "    def run(self):\n",
        "        for sim in tqdm(range(self.sim)):\n",
        "            self.algo.reset()\n",
        "            for epi in range(self.epi):\n",
        "                state = self.env.reset()\n",
        "                while True:\n",
        "                    action = self.algo.act(state)\n",
        "                    reward, next_state = self.env.step(action, state)\n",
        "                    self.rewards[sim, epi] += reward\n",
        "                    self.algo.update(action, state, next_state, reward)\n",
        "                    state = copy.deepcopy(next_state)\n",
        "                    if reward > 0: break\n",
        "        self.print_average_reward()\n",
        "                    \n",
        "    def print_average_reward(self):\n",
        "        plt.plot(np.arange(self.epi), np.mean(self.rewards, axis=0), label='Q-learning')\n",
        "        plt.title(f'Q-learning, sim={self.sim}, epi={self.epi}')\n",
        "        plt.xlabel('episode')\n",
        "        plt.ylabel('average reward')\n",
        "        plt.legend()\n",
        "        plt.show()"
      ],
      "metadata": {
        "id": "vcvkI0W0Oyj-"
      },
      "execution_count": 88,
      "outputs": []
    },
    {
      "cell_type": "code",
      "source": [
        "def main():\n",
        "    sim = 100\n",
        "    epi = 1000\n",
        "    s = Simulator(sim, epi, 'q')\n",
        "    s.run()\n",
        "\n",
        "main()"
      ],
      "metadata": {
        "id": "HpkuMnQ5NnQ0",
        "colab": {
          "base_uri": "https://localhost:8080/",
          "height": 313
        },
        "outputId": "173dc8bf-2e2f-4eda-fc93-c418553e138f"
      },
      "execution_count": 89,
      "outputs": [
        {
          "output_type": "stream",
          "name": "stderr",
          "text": [
            "100%|██████████| 100/100 [00:56<00:00,  1.77it/s]\n"
          ]
        },
        {
          "output_type": "display_data",
          "data": {
            "text/plain": [
              "<Figure size 432x288 with 1 Axes>"
            ],
            "image/png": "[encoded data removed]"
          },
          "metadata": {
            "needs_background": "light"
          }
        }
      ]
    }
  ]
}